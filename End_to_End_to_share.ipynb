{
  "cells": [
    {
      "cell_type": "markdown",
      "metadata": {
        "id": "view-in-github",
        "colab_type": "text"
      },
      "source": [
        "<a href=\"https://colab.research.google.com/github/Farmers-For-Forests/treedetection/blob/main/End_to_End_to_share.ipynb\" target=\"_parent\"><img src=\"https://colab.research.google.com/assets/colab-badge.svg\" alt=\"Open In Colab\"/></a>"
      ]
    },
    {
      "cell_type": "code",
      "execution_count": null,
      "metadata": {
        "id": "ijveUbvG-tg7"
      },
      "outputs": [],
      "source": [
        "import warnings\n",
        "warnings.filterwarnings(\"ignore\")\n",
        "import logging\n",
        "log = logging.getLogger(\"pytorch_lightning\")\n",
        "log.propagate = False\n",
        "log.setLevel(logging.ERROR)"
      ]
    },
    {
      "cell_type": "code",
      "source": [
        "from google.colab import drive\n",
        "drive.mount('/content/drive')"
      ],
      "metadata": {
        "colab": {
          "base_uri": "https://localhost:8080/"
        },
        "id": "ugbMUQZ1CZBr",
        "outputId": "e9da14ee-4028-4391-e69c-9d61cfd20833"
      },
      "execution_count": null,
      "outputs": [
        {
          "output_type": "stream",
          "name": "stdout",
          "text": [
            "Mounted at /content/drive\n"
          ]
        }
      ]
    },
    {
      "cell_type": "code",
      "execution_count": 1,
      "metadata": {
        "id": "QqfmSkeWitJm",
        "colab": {
          "base_uri": "https://localhost:8080/"
        },
        "outputId": "0362183d-a43a-43d1-e3f5-3c438efa05a5"
      },
      "outputs": [
        {
          "output_type": "stream",
          "name": "stdout",
          "text": [
            "Mounted at /content/drive\n"
          ]
        }
      ],
      "source": [
        "# @ Vijen\n",
        "# this code wont be needed for deployment but to check it before sending it to you,\n",
        "# I have it included here\n",
        "from google.colab import drive\n",
        "drive.mount('/content/drive')"
      ]
    },
    {
      "cell_type": "code",
      "execution_count": null,
      "metadata": {
        "id": "M-UklzZxit7v"
      },
      "outputs": [],
      "source": [
        "# @title\n",
        "%%capture\n",
        "#install the package, on colab make sure to upgrade existing packages. This is not needed in a clean env.\n",
        "!pip install --upgrade deepforest\n",
        "!pip install git+https://github.com/weecology/DeepForest.git\n",
        "!pip install -Uqq ipdb\n",
        "!pip install utm"
      ]
    },
    {
      "cell_type": "markdown",
      "metadata": {
        "id": "LsYQWm2BMxj0"
      },
      "source": [
        "# importing Libraries (Some of them are probably not used and I will clean it later)"
      ]
    },
    {
      "cell_type": "code",
      "execution_count": null,
      "metadata": {
        "id": "L8y6uJapiwX6"
      },
      "outputs": [],
      "source": [
        "import io\n",
        "import glob\n",
        "import os\n",
        "import sys\n",
        "import imghdr\n",
        "from deepforest import utilities\n",
        "from deepforest import get_data\n",
        "from deepforest import main\n",
        "from deepforest import preprocess\n",
        "from deepforest import visualize\n",
        "from deepforest import evaluate\n",
        "import rasterio\n",
        "import rasterio.warp\n",
        "from rasterio import CRS\n",
        "import cv2\n",
        "import matplotlib.pyplot as plt\n",
        "from PIL import Image\n",
        "Image.MAX_IMAGE_PIXELS = 1347753768\n",
        "import pandas as pd\n",
        "import numpy as np\n",
        "import tempfile\n",
        "import math\n",
        "import pyproj\n",
        "from pyproj import Proj\n",
        "from keras.models import load_model\n",
        "from pickle import load\n",
        "from os import path\n",
        "plt.rcParams['figure.figsize'] = [10,15]"
      ]
    },
    {
      "cell_type": "markdown",
      "metadata": {
        "id": "u_Ic2HxzM-0K"
      },
      "source": [
        "# Function Definitions"
      ]
    },
    {
      "cell_type": "code",
      "execution_count": null,
      "metadata": {
        "id": "2Eka_jAmjTHZ"
      },
      "outputs": [],
      "source": [
        "#### Used in Prediction ####\n",
        "\n",
        "def PredictTrees(model, image, patch_size):\n",
        "    '''\n",
        "    Arguments:  1. model: deepforest tree detection model\n",
        "    Description:  1. First, the number of parallel processes are set. This is dependent on available compute. Chnage this number if not applicable\n",
        "                  2. predict a datafram with deepforest\n",
        "                  3. predict an image with annotation rectangles from deepforest prediction\n",
        "                  ( in the predict_tile function used from deepforest model, patch_size, patch_overlap, thickness are hardcoded in the function below. Change them or function could be changed to pass these)\n",
        "    Returns:  1. predicted_df: pandas dataframe\n",
        "              2. predicted image: an image object which is an RGB array (check if it is RGB or BGR)\n",
        "    '''\n",
        "\n",
        "    model.config[\"workers\"] = 8\n",
        "\n",
        "    predicted_df = model.predict_tile(image, return_plot = False, patch_size=patch_size, patch_overlap=0.25, thickness=10)\n",
        "    predicted_image = model.predict_tile(image, return_plot = True, patch_size=patch_size, patch_overlap=0.25, thickness=10)\n",
        "\n",
        "\n",
        "    return predicted_df, predicted_image\n",
        "\n",
        "#### Used in getting height from DEM ####\n",
        "\n",
        "def GetTreeHeight(row, dem_file, image_file, dem_data):\n",
        "  xmin = row[0]\n",
        "  ymin = row[1]\n",
        "  xmax = row[2]\n",
        "  ymax = row[3]\n",
        "    # print(xmin, ymin, xmax, ymax)\n",
        "\n",
        "  try:\n",
        "    xdem_min = xmin * (rasterio.open(dem_file).width/rasterio.open(image_file).width)\n",
        "    ydem_min = ymin * (rasterio.open(dem_file).height/rasterio.open(image_file).height)\n",
        "    xdem_max = xmax * (rasterio.open(dem_file).width/rasterio.open(image_file).width)\n",
        "    ydem_max = ymax * (rasterio.open(dem_file).height/rasterio.open(image_file).height)\n",
        "    # print(xdem_min, ydem_min, xdem_max, ydem_max)\n",
        "\n",
        "    dem_values = dem_data[math.floor(ydem_min):math.ceil(ydem_max), math.floor(xdem_min):math.ceil(xdem_max)]\n",
        "    # print(dem_values)\n",
        "    tree_height = np.max(dem_values) - np.min(dem_values)\n",
        "  except:\n",
        "    tree_height = np.nan\n",
        "  return tree_height\n",
        "\n",
        "def ReadDEM(dem_file):\n",
        "  dem = rasterio.open(dem_file)\n",
        "  dem_array = dem.read(1).astype('float64')\n",
        "  return dem_array\n",
        "\n",
        "def GetCrownSize(df, res):\n",
        "  xmin = df.iloc[:,0]\n",
        "  ymin = df.iloc[:,1]\n",
        "  xmax = df.iloc[:,2]\n",
        "  ymax = df.iloc[:,3]\n",
        "  crown_size = 0.5*(res*(xmax - xmin) + abs(res)*(ymax - ymin))\n",
        "  return crown_size\n",
        "\n",
        "def ReturnTransformTIF(tif_file):\n",
        "    '''\n",
        "    This function takes in a path for tif file and returns dx, dy, x0, y0\n",
        "\n",
        "    Arguments:\n",
        "    1. tif_file: string: tif image file path\n",
        "\n",
        "    Description:\n",
        "    1. read the file line by line based on the description below, get dx, dy, x0, y0\n",
        "    | x' |   | a  b  c | | x |\n",
        "    | y' | = | d  e  f | | y |\n",
        "    | 1  |   | 0  0  1 | | 1 |\n",
        "    here a defines dx, c defines x0, e defines dy, f defines y0\n",
        "    a, b, c, d, e, f\n",
        "    0, 1, 2, 3, 4, 5\n",
        "    Links:\n",
        "    https://github.com/rasterio/affine\n",
        "    https://rasterio.readthedocs.io/en/latest/topics/georeferencing.html\n",
        "\n",
        "    Returns:\n",
        "    1. dx (float)\n",
        "    2. dy (float)\n",
        "    3. x0 (float)\n",
        "    4. y0(float)\n",
        "    '''\n",
        "    tifImage = rasterio.open(tif_file)#EPSG:3857, EPSG:32643\n",
        "    dx = tifImage.transform[0]\n",
        "    dy = tifImage.transform[4]\n",
        "    x0 = tifImage.transform[2]\n",
        "    y0 = tifImage.transform[5]\n",
        "    return dx, dy, x0, y0\n",
        "\n",
        "def ReturnTransformJGW(jgw_file):\n",
        "    '''\n",
        "    This function takes in a path for jgw file and returns dx, dy, x0, y0\n",
        "\n",
        "    Arguments:\n",
        "    1. jgw_file: string: jgw file path\n",
        "\n",
        "    Description:\n",
        "    1. read the file line by line based on the description below, get dx, dy, x0, y0\n",
        "    Line 1: A: pixel size in the x-direction in map units/pixel\n",
        "    Line 2: D: rotation about y-axis\n",
        "    Line 3: B: rotation about x-axis\n",
        "    Line 4: E: pixel size in the y-direction in map units, almost always negative[3]\n",
        "    Line 5: C: x-coordinate of the center of the upper left pixel\n",
        "    Line 6: F: y-coordinate of the center of the upper left pixel\n",
        "    Link: https://en.wikipedia.org/wiki/World_file\n",
        "\n",
        "    Returns:\n",
        "    1. dx (float)\n",
        "    2. dy (float)\n",
        "    3. x0 (float)\n",
        "    4. y0(float)\n",
        "    '''\n",
        "    with open(jgw_file) as f:\n",
        "        lines = f.readlines()\n",
        "    dx = float(lines[0].split('\\n')[0])\n",
        "    dy = float(lines[3].split('\\n')[0])\n",
        "    x0 = float(lines[4].split('\\n')[0])\n",
        "    y0 = float(lines[5].split('\\n')[0])\n",
        "    return dx, dy, x0, y0\n",
        "\n",
        "def PlotPredictionRectangles(pred_lab_df, image_path):\n",
        "  try:\n",
        "    image = cv2.imread(image_path)\n",
        "  except:\n",
        "    image = image_path\n",
        "\n",
        "  for index, row in pred_lab_df.dropna().iterrows():\n",
        "    start_point_pred = (int(np.floor(row['xmin'])), int(np.floor(row['ymin'])))\n",
        "    end_point_pred = (int(np.ceil(row['xmax'])), int(np.ceil(row['ymax'])))\n",
        "    colorp = (0, 255, 0)\n",
        "    thickness = 5\n",
        "    image = cv2.rectangle(image, start_point_pred, end_point_pred, colorp, thickness)\n",
        "\n",
        "  return image\n",
        "\n",
        "def PlotSrNumbers(pred_lab_df, image_path):\n",
        "  try:\n",
        "    image = cv2.imread(image_path)\n",
        "  except:\n",
        "    image = image_path\n",
        "\n",
        "  for index, row in pred_lab_df.dropna().iterrows():\n",
        "    crown_center = (int(0.5*(row['xmin']+row['xmax'])), int(0.5*(row['ymin']+row['ymax'])))\n",
        "    font = cv2.FONT_HERSHEY_SIMPLEX\n",
        "    fontScale = 1\n",
        "    textcolor = (255, 255, 255)\n",
        "    thickness = 5\n",
        "\n",
        "    image = cv2.putText(image,\n",
        "                        str(row['row_number']),\n",
        "                        crown_center,\n",
        "                        font,\n",
        "                        fontScale,\n",
        "                        textcolor,\n",
        "                        thickness,\n",
        "                        cv2.LINE_AA)\n",
        "\n",
        "  return image\n",
        "\n",
        "def GiveLowResVersion(image_path):\n",
        "  im = Image.open(image_path)\n",
        "  width, height = im.size\n",
        "  target_width = 800\n",
        "  scale_factor = target_width/width\n",
        "  target_height = int(height*scale_factor)\n",
        "  new_size = (target_width, target_height)\n",
        "  im_resized = im.resize(new_size)\n",
        "  return im_resized\n",
        "\n",
        "def lat_lon_to_utm(latitude, longitude, zone):\n",
        "    # Define the source and target coordinate systems\n",
        "    source_proj = pyproj.Proj(proj='latlong', datum='WGS84')\n",
        "    target_proj = pyproj.Proj(proj='utm', zone=zone, datum='WGS84')\n",
        "\n",
        "    # Perform the conversion\n",
        "    utm_easting, utm_northing = pyproj.transform(source_proj, target_proj, longitude, latitude)\n",
        "\n",
        "    return utm_easting, utm_northing\n",
        "\n",
        "def utm_to_lat_lon(utmx, utmy, zone):\n",
        "    # Define the source and target coordinate systems\n",
        "    target_proj = pyproj.Proj(proj='latlong', datum='WGS84')\n",
        "    source_proj = pyproj.Proj(proj='utm', zone=zone, datum='WGS84')\n",
        "\n",
        "    # Perform the conversion\n",
        "    lat, longi = pyproj.transform(source_proj, target_proj, utmx, utmy)\n",
        "\n",
        "    return utm_easting, utm_northing"
      ]
    },
    {
      "cell_type": "markdown",
      "metadata": {
        "id": "Np0pQNw2NGrl"
      },
      "source": [
        "# Ortho path, model path, converting 4 channel ortho to 3 and saving it somewhere to be used later"
      ]
    },
    {
      "cell_type": "code",
      "execution_count": null,
      "metadata": {
        "id": "sGM35mMQ0dFP",
        "colab": {
          "base_uri": "https://localhost:8080/",
          "height": 406
        },
        "outputId": "39eb4b7c-fefc-4d3a-ac6d-6568a4b38a71"
      },
      "outputs": [
        {
          "output_type": "error",
          "ename": "FileNotFoundError",
          "evalue": "[Errno 2] No such file or directory: '/content/drive/MyDrive/Colab Notebooks/Data/Forest Tracking Tech/Current/Carbon Stock Estimation/Deployment - Carbon Stock/ortho/275214189555601B5134.jpg'",
          "traceback": [
            "\u001b[0;31m---------------------------------------------------------------------------\u001b[0m",
            "\u001b[0;31mFileNotFoundError\u001b[0m                         Traceback (most recent call last)",
            "\u001b[0;32m<ipython-input-8-aa0352a465b6>\u001b[0m in \u001b[0;36m<cell line: 16>\u001b[0;34m()\u001b[0m\n\u001b[1;32m     14\u001b[0m \u001b[0mbase_name\u001b[0m \u001b[0;34m=\u001b[0m \u001b[0morthomosaic_path\u001b[0m\u001b[0;34m.\u001b[0m\u001b[0msplit\u001b[0m\u001b[0;34m(\u001b[0m\u001b[0;34m'/'\u001b[0m\u001b[0;34m)\u001b[0m\u001b[0;34m[\u001b[0m\u001b[0;34m-\u001b[0m\u001b[0;36m1\u001b[0m\u001b[0;34m]\u001b[0m\u001b[0;34m.\u001b[0m\u001b[0msplit\u001b[0m\u001b[0;34m(\u001b[0m\u001b[0;34m'.'\u001b[0m\u001b[0;34m)\u001b[0m\u001b[0;34m[\u001b[0m\u001b[0;36m0\u001b[0m\u001b[0;34m]\u001b[0m\u001b[0;34m\u001b[0m\u001b[0;34m\u001b[0m\u001b[0m\n\u001b[1;32m     15\u001b[0m \u001b[0;34m\u001b[0m\u001b[0m\n\u001b[0;32m---> 16\u001b[0;31m \u001b[0mimage\u001b[0m \u001b[0;34m=\u001b[0m \u001b[0mplt\u001b[0m\u001b[0;34m.\u001b[0m\u001b[0mimread\u001b[0m\u001b[0;34m(\u001b[0m\u001b[0morthomosaic_path\u001b[0m\u001b[0;34m)\u001b[0m\u001b[0;34m\u001b[0m\u001b[0;34m\u001b[0m\u001b[0m\n\u001b[0m\u001b[1;32m     17\u001b[0m \u001b[0;34m\u001b[0m\u001b[0m\n\u001b[1;32m     18\u001b[0m \u001b[0;32mif\u001b[0m \u001b[0mimage\u001b[0m\u001b[0;34m.\u001b[0m\u001b[0mshape\u001b[0m\u001b[0;34m[\u001b[0m\u001b[0;34m-\u001b[0m\u001b[0;36m1\u001b[0m\u001b[0;34m]\u001b[0m \u001b[0;34m==\u001b[0m \u001b[0;36m4\u001b[0m\u001b[0;34m:\u001b[0m\u001b[0;34m\u001b[0m\u001b[0;34m\u001b[0m\u001b[0m\n",
            "\u001b[0;32m/usr/local/lib/python3.10/dist-packages/matplotlib/pyplot.py\u001b[0m in \u001b[0;36mimread\u001b[0;34m(fname, format)\u001b[0m\n\u001b[1;32m   2193\u001b[0m \u001b[0;34m@\u001b[0m\u001b[0m_copy_docstring_and_deprecators\u001b[0m\u001b[0;34m(\u001b[0m\u001b[0mmatplotlib\u001b[0m\u001b[0;34m.\u001b[0m\u001b[0mimage\u001b[0m\u001b[0;34m.\u001b[0m\u001b[0mimread\u001b[0m\u001b[0;34m)\u001b[0m\u001b[0;34m\u001b[0m\u001b[0;34m\u001b[0m\u001b[0m\n\u001b[1;32m   2194\u001b[0m \u001b[0;32mdef\u001b[0m \u001b[0mimread\u001b[0m\u001b[0;34m(\u001b[0m\u001b[0mfname\u001b[0m\u001b[0;34m,\u001b[0m \u001b[0mformat\u001b[0m\u001b[0;34m=\u001b[0m\u001b[0;32mNone\u001b[0m\u001b[0;34m)\u001b[0m\u001b[0;34m:\u001b[0m\u001b[0;34m\u001b[0m\u001b[0;34m\u001b[0m\u001b[0m\n\u001b[0;32m-> 2195\u001b[0;31m     \u001b[0;32mreturn\u001b[0m \u001b[0mmatplotlib\u001b[0m\u001b[0;34m.\u001b[0m\u001b[0mimage\u001b[0m\u001b[0;34m.\u001b[0m\u001b[0mimread\u001b[0m\u001b[0;34m(\u001b[0m\u001b[0mfname\u001b[0m\u001b[0;34m,\u001b[0m \u001b[0mformat\u001b[0m\u001b[0;34m)\u001b[0m\u001b[0;34m\u001b[0m\u001b[0;34m\u001b[0m\u001b[0m\n\u001b[0m\u001b[1;32m   2196\u001b[0m \u001b[0;34m\u001b[0m\u001b[0m\n\u001b[1;32m   2197\u001b[0m \u001b[0;34m\u001b[0m\u001b[0m\n",
            "\u001b[0;32m/usr/local/lib/python3.10/dist-packages/matplotlib/image.py\u001b[0m in \u001b[0;36mimread\u001b[0;34m(fname, format)\u001b[0m\n\u001b[1;32m   1561\u001b[0m             \u001b[0;34m\"``np.array(PIL.Image.open(urllib.request.urlopen(url)))``.\"\u001b[0m\u001b[0;34m\u001b[0m\u001b[0;34m\u001b[0m\u001b[0m\n\u001b[1;32m   1562\u001b[0m             )\n\u001b[0;32m-> 1563\u001b[0;31m     \u001b[0;32mwith\u001b[0m \u001b[0mimg_open\u001b[0m\u001b[0;34m(\u001b[0m\u001b[0mfname\u001b[0m\u001b[0;34m)\u001b[0m \u001b[0;32mas\u001b[0m \u001b[0mimage\u001b[0m\u001b[0;34m:\u001b[0m\u001b[0;34m\u001b[0m\u001b[0;34m\u001b[0m\u001b[0m\n\u001b[0m\u001b[1;32m   1564\u001b[0m         return (_pil_png_to_float_array(image)\n\u001b[1;32m   1565\u001b[0m                 \u001b[0;32mif\u001b[0m \u001b[0misinstance\u001b[0m\u001b[0;34m(\u001b[0m\u001b[0mimage\u001b[0m\u001b[0;34m,\u001b[0m \u001b[0mPIL\u001b[0m\u001b[0;34m.\u001b[0m\u001b[0mPngImagePlugin\u001b[0m\u001b[0;34m.\u001b[0m\u001b[0mPngImageFile\u001b[0m\u001b[0;34m)\u001b[0m \u001b[0;32melse\u001b[0m\u001b[0;34m\u001b[0m\u001b[0;34m\u001b[0m\u001b[0m\n",
            "\u001b[0;32m/usr/local/lib/python3.10/dist-packages/PIL/Image.py\u001b[0m in \u001b[0;36mopen\u001b[0;34m(fp, mode, formats)\u001b[0m\n\u001b[1;32m   3225\u001b[0m \u001b[0;34m\u001b[0m\u001b[0m\n\u001b[1;32m   3226\u001b[0m     \u001b[0;32mif\u001b[0m \u001b[0mfilename\u001b[0m\u001b[0;34m:\u001b[0m\u001b[0;34m\u001b[0m\u001b[0;34m\u001b[0m\u001b[0m\n\u001b[0;32m-> 3227\u001b[0;31m         \u001b[0mfp\u001b[0m \u001b[0;34m=\u001b[0m \u001b[0mbuiltins\u001b[0m\u001b[0;34m.\u001b[0m\u001b[0mopen\u001b[0m\u001b[0;34m(\u001b[0m\u001b[0mfilename\u001b[0m\u001b[0;34m,\u001b[0m \u001b[0;34m\"rb\"\u001b[0m\u001b[0;34m)\u001b[0m\u001b[0;34m\u001b[0m\u001b[0;34m\u001b[0m\u001b[0m\n\u001b[0m\u001b[1;32m   3228\u001b[0m         \u001b[0mexclusive_fp\u001b[0m \u001b[0;34m=\u001b[0m \u001b[0;32mTrue\u001b[0m\u001b[0;34m\u001b[0m\u001b[0;34m\u001b[0m\u001b[0m\n\u001b[1;32m   3229\u001b[0m \u001b[0;34m\u001b[0m\u001b[0m\n",
            "\u001b[0;31mFileNotFoundError\u001b[0m: [Errno 2] No such file or directory: '/content/drive/MyDrive/Colab Notebooks/Data/Forest Tracking Tech/Current/Carbon Stock Estimation/Deployment - Carbon Stock/ortho/275214189555601B5134.jpg'"
          ]
        }
      ],
      "source": [
        "path_to_saved_model = '/content/drive/MyDrive/Saved_Models/small_tree_15_iter.pl'\n",
        "# orthomosaic_path = '/content/drive/MyDrive/Colab Notebooks/Data/Forest Tracking Tech/Current/Carbon Stock Estimation/Data/Drone Data/6_Testing Data/Ortho/5224211558394A494.tif'\n",
        "# orthomosaic_path = \"/content/drive/MyDrive/Colab Notebooks/Data/Forest Tracking Tech/Current/Carbon Stock Estimation/Data/Drone Data/1_Orthomosaic/Agroforestry/5224212558390A0408.jpg\"\n",
        "# orthomosaic_path = '/content/drive/MyDrive/Colab Notebooks/Data/Forest Tracking Tech/Current/Carbon Stock Estimation/Data/Drone Data/6_Testing Data/Ortho/275224211558390PVT08.tif'\n",
        "# orthomosaic_path = '/content/drive/MyDrive/Colab Notebooks/Data/Forest Tracking Tech/Current/Carbon Stock Estimation/Deployment - Carbon Stock/ortho/275224211558363B292.tif'\n",
        "# orthomosaic_path = '/content/drive/MyDrive/Colab Notebooks/Data/Forest Tracking Tech/Current/Carbon Stock Estimation/Deployment - Carbon Stock/ortho/275224211558394A495.tif'\n",
        "# orthomosaic_path = '/content/drive/MyDrive/Colab Notebooks/Data/Forest Tracking Tech/Current/Carbon Stock Estimation/Deployment - Carbon Stock/ortho/275224212558410B1120.tif'\n",
        "# orthomosaic_path = '/content/drive/MyDrive/Colab Notebooks/Data/Forest Tracking Tech/Current/Carbon Stock Estimation/Deployment - Carbon Stock/ortho/275224213558540B165.tif'\n",
        "# orthomosaic_path = '/content/drive/MyDrive/Colab Notebooks/Data/Forest Tracking Tech/Current/Carbon Stock Estimation/Deployment - Carbon Stock/ortho/275224211558394A495.tif'\n",
        "# orthomosaic_path = '/content/drive/MyDrive/Colab Notebooks/Data/Forest Tracking Tech/Current/Afforestation Dashboard/ortho/original/275224212558410B1120.tif'\n",
        "orthomosaic_path = '/content/drive/MyDrive/Colab Notebooks/Data/Forest Tracking Tech/Current/Carbon Stock Estimation/Deployment - Carbon Stock/ortho/275214189555601B5134.jpg'\n",
        "jgw_path = '/content/drive/MyDrive/Colab Notebooks/Data/Forest Tracking Tech/Current/Carbon Stock Estimation/Deployment - Carbon Stock/ortho/275214189555601B5134.jgw'\n",
        "\n",
        "base_name = orthomosaic_path.split('/')[-1].split('.')[0]\n",
        "\n",
        "image = plt.imread(orthomosaic_path)\n",
        "\n",
        "if image.shape[-1] == 4:\n",
        "  # @vijen: give some folder path in place of \"'sample_data/'\" to save a three channel image\n",
        "  # generated after removing the alpha transparency channel\n",
        "  image_path_for_tree_detection = 'sample_data/' + base_name + '.tif'\n",
        "  image3ch = image[:,:,0:3]\n",
        "  cv2.imwrite(image_path_for_tree_detection, image3ch[:,:,::-1])\n",
        "else:\n",
        "  image_path_for_tree_detection = orthomosaic_path"
      ]
    },
    {
      "cell_type": "markdown",
      "metadata": {
        "id": "FUx11HVuNRUX"
      },
      "source": [
        "# Prediction and plotting predicted image"
      ]
    },
    {
      "cell_type": "code",
      "execution_count": null,
      "metadata": {
        "id": "bSDVJPsWjKSd",
        "scrolled": false
      },
      "outputs": [],
      "source": [
        "test_type = \"ttrained\" #\"ttrained\" #\"default\"\n",
        "# test_type = \"default\"\n",
        "\n",
        "if test_type == \"default\":\n",
        "  model = main.deepforest()\n",
        "  model.use_release()\n",
        "elif test_type == \"ttrained\":\n",
        "  text_trap = io.StringIO()\n",
        "  sys.stdout = text_trap\n",
        "  model = main.deepforest.load_from_checkpoint(path_to_saved_model, verbose=False)\n",
        "  sys.stdout = sys.__stdout__\n",
        "\n",
        "score_thresh = 0.3\n",
        "model.config[\"score_thresh\"] = score_thresh\n",
        "model.config[\"score\"] = score_thresh\n",
        "model.config['retinanet']['score_thresh'] = score_thresh\n",
        "\n",
        "prediction_df, prediction_image = PredictTrees(model, image_path_for_tree_detection, 1500)\n",
        "\n",
        "plt.imshow(prediction_image[:,:,:])\n",
        "\n",
        "test = image[:,:,:]"
      ]
    },
    {
      "cell_type": "markdown",
      "metadata": {
        "id": "TTwMabDEYBxt"
      },
      "source": [
        "# Get tree heights"
      ]
    },
    {
      "cell_type": "code",
      "execution_count": null,
      "metadata": {
        "id": "m1hOwdyAS8xU"
      },
      "outputs": [],
      "source": [
        "# @ Vijen: The DEM path is set to None in the beginning. If the user has uploaded a DEM, then set the Dem_path to the user uploaded DEM\n",
        "dem_path = None\n",
        "# dem_path = '/content/drive/MyDrive/Colab Notebooks/Data/Forest Tracking Tech/Current/Carbon Stock Estimation/Data/Drone Data/6_Testing Data/DSM/5224211558394A494.tif'\n",
        "# dem_path = \"/content/drive/MyDrive/Colab Notebooks/Data/Forest Tracking Tech/Current/Carbon Stock Estimation/Data/Drone Data/2_DEM/5224212558390A0408.tif\"\n",
        "# dem_path = \"/content/drive/MyDrive/Colab Notebooks/Data/Forest Tracking Tech/Current/Carbon Stock Estimation/Data/Drone Data/2_DEM/275224211558390PVT08.tif\"\n",
        "# dem_path = '/content/drive/MyDrive/Colab Notebooks/Data/Forest Tracking Tech/Current/Carbon Stock Estimation/Deployment - Carbon Stock/dsm/275224211558363B292.tif'\n",
        "# dem_path = '/content/drive/MyDrive/Colab Notebooks/Data/Forest Tracking Tech/Current/Carbon Stock Estimation/Deployment - Carbon Stock/dsm/275224211558394A495.tif'\n",
        "# dem_path = '/content/drive/MyDrive/Colab Notebooks/Data/Forest Tracking Tech/Current/Carbon Stock Estimation/Deployment - Carbon Stock/dsm/275224212558410B1120.tif'\n",
        "# dem_path = '/content/drive/MyDrive/Colab Notebooks/Data/Forest Tracking Tech/Current/Carbon Stock Estimation/Deployment - Carbon Stock/dsm/275224213558540B165.tif'\n",
        "# dem_path = '/content/drive/MyDrive/Colab Notebooks/Data/Forest Tracking Tech/Current/Carbon Stock Estimation/Deployment - Carbon Stock/dsm/275224211558394A495.tif'\n",
        "# dem_path = '/content/drive/MyDrive/Colab Notebooks/Data/Forest Tracking Tech/Current/Afforestation Dashboard/dem/275224212558410B1120.tif'\n",
        "# dem_path = '/content/drive/MyDrive/Colab Notebooks/Data/Forest Tracking Tech/Current/Carbon Stock Estimation/Deployment - Carbon Stock/dsm/275214189555601B5134.tif'\n",
        "dem_path = '/content/drive/MyDrive/Colab Notebooks/Data/Forest Tracking Tech/Current/Carbon Stock Estimation/Deployment - Carbon Stock/dsm/275214189555601B5134_new_for_demo.tif'\n",
        "\n",
        "if dem_path == None:\n",
        "  print(\"No dem file specified\")\n",
        "else:\n",
        "  dem_data = ReadDEM(dem_path)\n",
        "  prediction_df[\"Height\"] = prediction_df[['xmin', 'ymin', 'xmax', 'ymax']].apply(GetTreeHeight, args=(dem_path, image_path_for_tree_detection, dem_data), axis=1)\n",
        "  prediction_df[\"Height\"][prediction_df[\"Height\"]<0] = np.nan\n",
        "  prediction_df[\"Height\"][prediction_df[\"Height\"]>50] = np.nan"
      ]
    },
    {
      "cell_type": "markdown",
      "metadata": {
        "id": "AWkm_y7ZaQ67"
      },
      "source": [
        "# Get crown size"
      ]
    },
    {
      "cell_type": "code",
      "execution_count": null,
      "metadata": {
        "id": "qlWpF9NhaXJ2"
      },
      "outputs": [],
      "source": [
        "# user needs to specify resolution in meter (that is amount of land length covered per pixel in meter)\n",
        "# below, I am assuming the resolution to be 2.5 cm\n",
        "res = 2.5/100\n",
        "prediction_df[\"Crown\"] = GetCrownSize(prediction_df[['xmin', 'ymin', 'xmax', 'ymax']], res)\n",
        "\n",
        "# drop rows with nan values\n",
        "prediction_df.dropna(inplace=True)"
      ]
    },
    {
      "cell_type": "markdown",
      "metadata": {
        "id": "gftwe84NbKg6"
      },
      "source": [
        "# Predict DBH"
      ]
    },
    {
      "cell_type": "code",
      "execution_count": null,
      "metadata": {
        "id": "ZseFcdjubN7q"
      },
      "outputs": [],
      "source": [
        "dbh_model = \"/content/drive/MyDrive/Colab Notebooks/Deployment/dbhm1.hdf\"\n",
        "scaler_model = '/content/drive/MyDrive/Colab Notebooks/Deployment/dbhs1.pkl'\n",
        "\n",
        "loaded_model = load_model(dbh_model)\n",
        "scaler = load(open(scaler_model, 'rb'))\n",
        "prediction_df['TC_foot'] = prediction_df['Crown']*3.2\n",
        "prediction_df['TH_foot'] = prediction_df['Height']*3.2\n",
        "X_predict = prediction_df[['TH_foot', 'TC_foot']]\n",
        "prediction_df['DBH_cm'] = loaded_model.predict(scaler.transform(X_predict))"
      ]
    },
    {
      "cell_type": "markdown",
      "metadata": {
        "id": "IyW5XZlla_JP"
      },
      "source": [
        "# Calculate biomass"
      ]
    },
    {
      "cell_type": "code",
      "execution_count": null,
      "metadata": {
        "id": "fgSPS-ywbCo7"
      },
      "outputs": [],
      "source": [
        "prediction_df[\"Above ground Biomass\"] = np.exp(-1.996 + 2.32*np.log(prediction_df[\"DBH_cm\"]))\n",
        "prediction_df[\"Total Biomass\"] = 1.27*prediction_df[\"Above ground Biomass\"]\n",
        "prediction_df[\"Carbon Stock\"] = 0.47*prediction_df[\"Total Biomass\"]\n",
        "prediction_df[\"CO2 Sequestration\"] = (44/12)*prediction_df[\"Carbon Stock\"]\n",
        "total_CO2 = np.sum(prediction_df[\"CO2 Sequestration\"])"
      ]
    },
    {
      "cell_type": "code",
      "execution_count": null,
      "metadata": {
        "id": "byPKKBkNXkna"
      },
      "outputs": [],
      "source": [
        "file_base_name = path.basename(orthomosaic_path)\n",
        "file_name_without_ext, ext = path.splitext(path.basename(orthomosaic_path))\n",
        "\n",
        "prediction_df[\"xcenter\"] = (prediction_df[\"xmin\"] + prediction_df[\"xmax\"])/2\n",
        "prediction_df[\"ycenter\"] = (prediction_df[\"ymin\"] + prediction_df[\"ymax\"])/2\n",
        "\n",
        "if (ext=='.tif'):\n",
        "  dx, dy, x0, y0 = ReturnTransformTIF(orthomosaic_path)\n",
        "  crs = str(rasterio.open(orthomosaic_path).crs)\n",
        "  # myProj = Proj(\"+proj=utm +zone=43, +north +ellps=WGS84 +datum=WGS84 +units=m +no_defs\")\n",
        "  myProj = Proj(proj='utm',zone=43,ellps='WGS84', preserve_units=False)\n",
        "  if (str(rasterio.open(orthomosaic_path).crs) == 'EPSG:32643'):\n",
        "    prediction_df[\"center_UTMx\"] = x0 + dx * prediction_df[\"xcenter\"]\n",
        "    prediction_df[\"center_UTMy\"] = y0 + dy * prediction_df[\"ycenter\"]\n",
        "    prediction_df[\"center_LONG\"] = 0\n",
        "    prediction_df[\"center_LAT\"] = 0\n",
        "    for index, row in prediction_df.iterrows():\n",
        "      utmx = np.array(row[\"center_UTMx\"]).reshape(1,)\n",
        "      utmy = np.array(row[\"center_UTMy\"]).reshape(1,)\n",
        "      lon, lat = myProj(utmx, utmy, inverse = True)\n",
        "      prediction_df.loc[index, [\"center_LONG\"]] = lon\n",
        "      prediction_df.loc[index, [\"center_LAT\"]] = lat\n",
        "\n",
        "  elif (str(rasterio.open(orthomosaic_path).crs) == 'EPSG:4326'):\n",
        "    prediction_df[\"center_LONG\"] = x0 + dx * prediction_df[\"xcenter\"]\n",
        "    prediction_df[\"center_LAT\"] = y0 + dy * prediction_df[\"ycenter\"]\n",
        "    prediction_df[\"center_UTMx\"] = 0\n",
        "    prediction_df[\"center_UTMy\"] = 0\n",
        "    for index, row in prediction_df.iterrows():\n",
        "      lat = np.array(row[\"center_LAT\"]).reshape(1,)\n",
        "      lon = np.array(row[\"center_LONG\"]).reshape(1,)\n",
        "      utm_easting, utm_northing = myProj(lon, lat)\n",
        "      prediction_df.loc[index, [\"center_UTMx\"]] = utm_easting\n",
        "      prediction_df.loc[index, [\"center_UTMy\"]] = utm_northing\n",
        "elif (ext=='.jpg'):\n",
        "  dx, dy, x0, y0 = ReturnTransformJGW(jgw_path)\n",
        "  myProj = Proj(proj='utm',zone=43,ellps='WGS84', preserve_units=False)\n",
        "  if (y0>90):\n",
        "    prediction_df[\"center_UTMx\"] = x0 + dx * prediction_df[\"xcenter\"]\n",
        "    prediction_df[\"center_UTMy\"] = y0 + dy * prediction_df[\"ycenter\"]\n",
        "    prediction_df[\"center_LONG\"] = 0\n",
        "    prediction_df[\"center_LAT\"] = 0\n",
        "    for index, row in prediction_df.iterrows():\n",
        "      utmx = np.array(row[\"center_UTMx\"]).reshape(1,)\n",
        "      utmy = np.array(row[\"center_UTMy\"]).reshape(1,)\n",
        "      lon, lat = myProj(utmx, utmy, inverse = True)\n",
        "      prediction_df.loc[index, [\"center_LONG\"]] = lon\n",
        "      prediction_df.loc[index, [\"center_LAT\"]] = lat\n",
        "\n",
        "  elif (y0<90):\n",
        "    prediction_df[\"center_LONG\"] = x0 + dx * prediction_df[\"xcenter\"]\n",
        "    prediction_df[\"center_LAT\"] = y0 + dy * prediction_df[\"ycenter\"]\n",
        "    prediction_df[\"center_UTMx\"] = 0\n",
        "    prediction_df[\"center_UTMy\"] = 0\n",
        "    for index, row in prediction_df.iterrows():\n",
        "      lat = np.array(row[\"center_LAT\"]).reshape(1,)\n",
        "      lon = np.array(row[\"center_LONG\"]).reshape(1,)\n",
        "      utm_easting, utm_northing = myProj(lon, lat)\n",
        "      prediction_df.loc[index, [\"center_UTMx\"]] = utm_easting\n",
        "      prediction_df.loc[index, [\"center_UTMy\"]] = utm_northing\n",
        "\n",
        "\n",
        "prediction_df[\"xcenter\"] = prediction_df[\"xcenter\"].astype(int)\n",
        "prediction_df[\"ycenter\"] = prediction_df[\"ycenter\"].astype(int)\n",
        "prediction_df = prediction_df.sort_values([\"xcenter\", \"ycenter\"])\n",
        "prediction_df = prediction_df.assign(row_number=range(len(prediction_df)))\n",
        "\n",
        "prediction_with_rectrangles = PlotPredictionRectangles(prediction_df, orthomosaic_path)\n",
        "plt.imshow(prediction_with_rectrangles[:,:,::-1])\n",
        "plt.show()\n",
        "try:\n",
        "  prediction_with_rectrangles_RGBA =  np.concatenate([prediction_with_rectrangles[:,:,::-1], image[:,:,3].reshape(image.shape[0], image.shape[1],1)], axis=2)\n",
        "except:\n",
        "  prediction_with_rectrangles_RGBA = prediction_with_rectrangles[:,:,::-1].copy()\n",
        "\n",
        "plt.imshow(prediction_with_rectrangles_RGBA)\n",
        "plt.show()\n",
        "plt.imsave('/content/drive/MyDrive/Colab Notebooks/Deployment/' + base_name + '_rect.png', prediction_with_rectrangles_RGBA)\n",
        "\n",
        "prediction_with_rectrangles_numbers_RGBA = PlotSrNumbers(prediction_df, '/content/drive/MyDrive/Colab Notebooks/Deployment/' + base_name + '_rect.png')\n",
        "plt.imshow(prediction_with_rectrangles_numbers_RGBA)\n",
        "plt.show()\n",
        "plt.imsave('/content/drive/MyDrive/Colab Notebooks/Deployment/' + base_name + '_rect_num.png', prediction_with_rectrangles_numbers_RGBA)\n",
        "\n",
        "plt.imshow(dem_data)\n",
        "plt.show()\n",
        "\n",
        "prediction_with_rectrangles_numbers_RGBA_low_res = GiveLowResVersion('/content/drive/MyDrive/Colab Notebooks/Deployment/' + base_name + '_rect_num.png')\n",
        "prediction_with_rectrangles_numbers_RGBA_low_res.save('/content/drive/MyDrive/Colab Notebooks/Deployment/' + base_name + 'rect_num_low_res.png')\n",
        "prediction_with_rectrangles_RGBA_low_res = GiveLowResVersion('/content/drive/MyDrive/Colab Notebooks/Deployment/' + base_name + '_rect.png')\n",
        "prediction_with_rectrangles_RGBA_low_res.save('/content/drive/MyDrive/Colab Notebooks/Deployment/' + base_name + 'rect_low_res.png')\n",
        "prediction_df.to_csv('/content/drive/MyDrive/Colab Notebooks/Deployment/' + base_name + '.csv')\n",
        "# # print(rasterio.open(orthomosaic_path).transform)\n",
        "# # print(type(rasterio.open(orthomosaic_path).crs))\n",
        "# # print(rasterio.open(orthomosaic_path).meta)\n",
        "# a = str(rasterio.open(orthomosaic_path).crs)"
      ]
    },
    {
      "cell_type": "code",
      "execution_count": null,
      "metadata": {
        "id": "PiQ4KJlyNeda"
      },
      "outputs": [],
      "source": [
        "!pip list  > '/content/drive/MyDrive/Colab Notebooks/Deployment/package_list.txt'"
      ]
    },
    {
      "cell_type": "code",
      "execution_count": null,
      "metadata": {
        "id": "sHlb0Sz9isUt"
      },
      "outputs": [],
      "source": [
        "!pip freeze > '/content/drive/MyDrive/Colab Notebooks/Deployment/package_list.txt'"
      ]
    },
    {
      "cell_type": "code",
      "execution_count": null,
      "metadata": {
        "id": "BkrmCReSk3vE"
      },
      "outputs": [],
      "source": [
        "# !pip install -r '/content/drive/MyDrive/Colab Notebooks/Deployment/package_list.txt'"
      ]
    },
    {
      "cell_type": "code",
      "execution_count": null,
      "metadata": {
        "id": "41Zl6IXnjxLr"
      },
      "outputs": [],
      "source": [
        "# import types\n",
        "# def imports():\n",
        "#     for name, val in globals().items():\n",
        "#         if isinstance(val, types.ModuleType):\n",
        "#             yield val.__name__\n",
        "# list(imports())"
      ]
    },
    {
      "cell_type": "code",
      "source": [
        "plt.imshow(prediction_with_rectrangles_RGBA)"
      ],
      "metadata": {
        "id": "Nhu7UQMBUYQk"
      },
      "execution_count": null,
      "outputs": []
    }
  ],
  "metadata": {
    "colab": {
      "provenance": [],
      "gpuType": "T4",
      "collapsed_sections": [
        "Np0pQNw2NGrl"
      ],
      "include_colab_link": true
    },
    "kernelspec": {
      "display_name": "Python 3",
      "name": "python3"
    },
    "language_info": {
      "codemirror_mode": {
        "name": "ipython",
        "version": 3
      },
      "file_extension": ".py",
      "mimetype": "text/x-python",
      "name": "python",
      "nbconvert_exporter": "python",
      "pygments_lexer": "ipython3",
      "version": "3.10.9"
    },
    "accelerator": "GPU"
  },
  "nbformat": 4,
  "nbformat_minor": 0
}